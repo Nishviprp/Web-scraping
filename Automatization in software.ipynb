{
 "cells": [
  {
   "cell_type": "code",
   "execution_count": 1,
   "id": "036f04b7",
   "metadata": {},
   "outputs": [],
   "source": [
    "from selenium import webdriver\n",
    "from selenium.webdriver.common.by import By\n",
    "from selenium.webdriver.chrome.options import Options\n",
    "from selenium.webdriver.support.select import Select\n",
    "import time\n",
    "from selenium.webdriver.support import expected_conditions as EC\n",
    "from selenium.webdriver.common.action_chains import ActionChains"
   ]
  },
  {
   "cell_type": "code",
   "execution_count": 2,
   "id": "78dcaa26",
   "metadata": {},
   "outputs": [],
   "source": [
    "options = Options()\n",
    "options.add_experimental_option(\"detach\", True)"
   ]
  },
  {
   "cell_type": "code",
   "execution_count": null,
   "id": "193135bd-e286-44e6-a79c-9588bf0a4e6f",
   "metadata": {},
   "outputs": [],
   "source": [
    "driver = webdriver.Chrome(options = options)\n",
    "driver.get(\"https://www.zoho.com/commerce/?network=g&device=c&keyword=ecommerce%20website&campaignid=16873811648&creative=649207175918&matchtype=e&adposition=&placement=&adgroup=147765963073&gad_source=1&gclid=CjwKCAiAloavBhBOEiwAbtAJOyGbUJlu_e8k2Rzd2vFdMwpwGmJ0dgmM9lcryJbWZJZTBeofwvujXBoCNnsQAvD_BwE\")\n",
    "\n",
    "#driver.find_element(By.XPATH,\"//span[@class='zgh-search-icon']\").click()\n",
    "#time.sleep(50)\n",
    "#driver.find_element(By.XPATH,\"//span[text()='×']\").click()\n",
    "\n",
    "#simple dropdown navigation\n",
    "driver.find_element(By.XPATH,\"(//li[@class='expanded dropdown zmenu-templates']//span[@class='dropdown-toggle nolink'])[2]\").click()\n",
    "time.sleep(1)\n",
    "a = driver.find_element(By.XPATH,\"//div[@class='zw-product-header ']//a[text()='Health & Beauty']\")\n",
    "\n",
    "driver.find_element(By.XPATH,\"//span[@class='zgh-search-icon']\").click()\n",
    "time.sleep(50)\n",
    "driver.find_element(By.XPATH,\"//span[text()='×']\").click()\n",
    "\n",
    "time.sleep(2)\n",
    "a = driver.find_element(By.XPATH,\"(//li[@class='expanded dropdown zmenu-templates']//span[@class='dropdown-toggle nolink'])[2]\").click()\n",
    "time.sleep(2)\n",
    "a = driver.find_element(By.XPATH,\"\").click()\n",
    " \n",
    "    \n",
    "print({a.get_attribute('href')})\n",
    "print({a.text})\n",
    "a.click()\n",
    "print(driver.current_url)"
   ]
  },
  {
   "cell_type": "code",
   "execution_count": 7,
   "id": "4127f585",
   "metadata": {},
   "outputs": [],
   "source": [
    "driver = webdriver.Chrome(options = options)\n",
    "driver.get(\"https://www.zoho.com/commerce/?network=g&device=c&keyword=ecommerce%20website&campaignid=16873811648&creative=649207175918&matchtype=e&adposition=&placement=&adgroup=147765963073&gad_source=1&gclid=CjwKCAiAloavBhBOEiwAbtAJOyGbUJlu_e8k2Rzd2vFdMwpwGmJ0dgmM9lcryJbWZJZTBeofwvujXBoCNnsQAvD_BwE\")\n",
    "\n",
    "actions = ActionChains(driver, duration = 20)\n",
    "actions.move_to_element(driver.find_element(By.XPATH,\"//div[@class='product-nav-links']//span[text()='Themes']\")).click().perform()\n",
    "\n",
    "#using mouse hover\n",
    "actions.move_to_element(driver.find_element(By.XPATH,\"//div[@class='product-nav-links']//a[text()='Health & Beauty']\")).click().perform()\n",
    "time.sleep(5)\n",
    "actions.move_to_element(driver.find_element(By.XPATH,\"//div[@get-blog='health']//a[@href='https://salon-demo.zohocommerce.com/' and text()='Live Demo']\")).click().perform()\n",
    "\n",
    "\n",
    "#all = driver.find_element(By.XPATH,\"//select[@id]\")\n",
    "#all.click()\n",
    "#print(driver.current_url)"
   ]
  },
  {
   "cell_type": "code",
   "execution_count": 8,
   "id": "139690e6",
   "metadata": {},
   "outputs": [
    {
     "name": "stdout",
     "output_type": "stream",
     "text": [
      "https://www.zoho.com/commerce/themes.html#health-beauty\n"
     ]
    }
   ],
   "source": [
    "driver = webdriver.Chrome(options = options)\n",
    "driver.get(\"https://www.zoho.com/commerce/?network=g&device=c&keyword=ecommerce%20website&campaignid=16873811648&creative=649207175918&matchtype=e&adposition=&placement=&adgroup=147765963073&gad_source=1&gclid=CjwKCAiAloavBhBOEiwAbtAJOyGbUJlu_e8k2Rzd2vFdMwpwGmJ0dgmM9lcryJbWZJZTBeofwvujXBoCNnsQAvD_BwE\")\n",
    "\n",
    "#single page navigation through mouse hover + click\n",
    "actions = ActionChains(driver, duration = 20)\n",
    "actions.move_to_element(driver.find_element(By.XPATH,\"//div[@class='product-nav-links']//span[text()='Themes']\")).click().perform()\n",
    "\n",
    "#using click\n",
    "actions.click(driver.find_element(By.XPATH,\"//div[@class='product-nav-links']//a[text()='Health & Beauty']\")).perform()\n",
    "time.sleep(5)\n",
    "actions.move_to_element(driver.find_element(By.XPATH,\"//div[@get-blog='health']//a[@href='https://salon-demo.zohocommerce.com/' and text()='Live Demo']\")).click().perform()\n",
    "\n",
    "\n",
    "print(driver.current_url)"
   ]
  },
  {
   "cell_type": "code",
   "execution_count": 11,
   "id": "bb3f1cf8",
   "metadata": {},
   "outputs": [],
   "source": [
    "#navigation form new tab or window\n",
    "driver.switch_to.window(driver.window_handles[1])\n",
    "\n",
    "#actions.move_to_element(driver.find_element(By.XPATH,\"//div[@class='theme-responsive-menu-container']\")).click().perform()\n",
    "#time.sleep(2)\n",
    "#actions.click(driver.find_element(By.XPATH,\"//a[text() = 'About Us ']\")).perform()\n",
    "\n",
    "time.sleep(2)\n",
    "driver.switch_to.window(driver.window_handles[0])\n",
    "#actions.move_to_element(driver.find_element(By.XPATH,\"//div[@class='theme-responsive-menu-container']\")).click().perform()\n",
    "#time.sleep(2)\n",
    "#actions.click(driver.find_element(By.XPATH,\"//a[text() = 'Home ']\")).perform()"
   ]
  },
  {
   "cell_type": "code",
   "execution_count": null,
   "id": "d87d67b2",
   "metadata": {},
   "outputs": [],
   "source": []
  }
 ],
 "metadata": {
  "kernelspec": {
   "display_name": "Python 3 (ipykernel)",
   "language": "python",
   "name": "python3"
  },
  "language_info": {
   "codemirror_mode": {
    "name": "ipython",
    "version": 3
   },
   "file_extension": ".py",
   "mimetype": "text/x-python",
   "name": "python",
   "nbconvert_exporter": "python",
   "pygments_lexer": "ipython3",
   "version": "3.11.7"
  }
 },
 "nbformat": 4,
 "nbformat_minor": 5
}
